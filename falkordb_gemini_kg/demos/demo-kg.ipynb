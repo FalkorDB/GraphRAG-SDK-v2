{
 "cells": [
  {
   "cell_type": "code",
   "execution_count": 1,
   "metadata": {},
   "outputs": [],
   "source": [
    "from dotenv import load_dotenv\n",
    "load_dotenv()\n",
    "from falkordb_gemini_kg.classes.model_config import KnowledgeGraphModelConfig\n",
    "from falkordb_gemini_kg.kg import KnowledgeGraph\n",
    "import vertexai\n",
    "import os\n",
    "\n",
    "vertexai.init(project=os.getenv(\"PROJECT_ID\"), location=os.getenv(\"REGION\"))\n",
    "\n",
    "kg = KnowledgeGraph(\n",
    "    name=\"movies\",\n",
    "    model_config=KnowledgeGraphModelConfig(d={\"model\": \"gemini-1.5-flash-001\"}),\n",
    ")"
   ]
  },
  {
   "cell_type": "code",
   "execution_count": 2,
   "metadata": {},
   "outputs": [],
   "source": [
    "from random import shuffle\n",
    "\n",
    "src_file=\"../data/rottentomatoes.txt\"\n",
    "\n",
    "source_urls = []\n",
    "with open(src_file, \"r\", encoding=\"utf-8\") as file:\n",
    "    source_urls = file.readlines()\n",
    "\n",
    "shuffle(source_urls)"
   ]
  },
  {
   "cell_type": "code",
   "execution_count": 3,
   "metadata": {},
   "outputs": [
    {
     "name": "stdout",
     "output_type": "stream",
     "text": [
      "Edge with label AVAILABLE_ON not found in ontology\n",
      "Edge with label AVAILABLE_ON not found in ontology\n",
      "Edge with label AVAILABLE_ON not found in ontology\n",
      "Edge with label BROADCASTS not found in ontology\n",
      "Edge with label SIMILAR_TO not found in ontology\n",
      "Edge with label SIMILAR_TO not found in ontology\n",
      "Edge with label SIMILAR_TO not found in ontology\n",
      "Edge with label SIMILAR_TO not found in ontology\n",
      "Edge with label SIMILAR_TO not found in ontology\n",
      "Edge with label CREATED not found in ontology\n",
      "Edge with label CREATED not found in ontology\n",
      "Edge with label STREAMED_ON not found in ontology\n",
      "Edge with label STREAMED_ON not found in ontology\n",
      "Edge with label STREAMED_ON not found in ontology\n",
      "Edge with label STREAMED_ON not found in ontology\n",
      "Edge with label BROADCASTED_ON not found in ontology\n",
      "Edge with label AVAILABLE_ON not found in ontology\n",
      "Edge with label AVAILABLE_ON not found in ontology\n",
      "Edge with label AVAILABLE_ON not found in ontology\n",
      "Edge with label DISTRIBUTED not found in ontology\n",
      "Edge with label AVAILABLE_ON not found in ontology\n",
      "Edge with label AVAILABLE_ON not found in ontology\n",
      "Edge with label AVAILABLE_ON not found in ontology\n",
      "Edge with label AIRST_ON not found in ontology\n",
      "Edge with label DISTRIBUTED not found in ontology\n",
      "Edge with label AVAILABLE_ON not found in ontology\n",
      "Edge with label AVAILABLE_ON not found in ontology\n",
      "Edge with label AVAILABLE_ON not found in ontology\n",
      "Edge with label AVAILABLE_ON not found in ontology\n",
      "Edge with label AVAILABLE_ON not found in ontology\n",
      "Edge with label AVAILABLE_ON not found in ontology\n",
      "Edge with label AVAILABLE_ON not found in ontology\n",
      "Edge with label BROADCASTS not found in ontology\n",
      "Edge with label SIMILAR_TO not found in ontology\n",
      "Edge with label SIMILAR_TO not found in ontology\n",
      "Edge with label SIMILAR_TO not found in ontology\n",
      "Edge with label SIMILAR_TO not found in ontology\n",
      "Edge with label SIMILAR_TO not found in ontology\n",
      "Edge with label CREATED not found in ontology\n",
      "Edge with label BROADCASTS not found in ontology\n",
      "Edge with label SIMILAR_TO not found in ontology\n",
      "Edge with label SIMILAR_TO not found in ontology\n",
      "Edge with label SIMILAR_TO not found in ontology\n",
      "Edge with label SIMILAR_TO not found in ontology\n",
      "Edge with label SIMILAR_TO not found in ontology\n",
      "Edge with label DISTRIBUTED not found in ontology\n",
      "Edge with label AVAILABLE_ON not found in ontology\n",
      "Edge with label AVAILABLE_ON not found in ontology\n",
      "Edge with label AVAILABLE_ON not found in ontology\n",
      "Edge with label AVAILABLE_ON not found in ontology\n",
      "Edge with label CREATED not found in ontology\n",
      "Edge with label BROADCASTED_ON not found in ontology\n",
      "Edge with label AVAILABLE_ON not found in ontology\n",
      "Edge with label AVAILABLE_ON not found in ontology\n",
      "Edge with label AVAILABLE_ON not found in ontology\n",
      "Edge with label SIMILAR_TO not found in ontology\n",
      "Edge with label SIMILAR_TO not found in ontology\n",
      "Edge with label SIMILAR_TO not found in ontology\n",
      "Edge with label SIMILAR_TO not found in ontology\n",
      "Edge with label SIMILAR_TO not found in ontology\n",
      "Edge with label CREATED not found in ontology\n",
      "Edge with label AVAILABLE_ON not found in ontology\n",
      "Edge with label SIMILAR_TO not found in ontology\n",
      "Edge with label SIMILAR_TO not found in ontology\n",
      "Edge with label SIMILAR_TO not found in ontology\n",
      "Edge with label SIMILAR_TO not found in ontology\n",
      "Edge with label SIMILAR_TO not found in ontology\n",
      "Edge with label AVAILABLE_ON not found in ontology\n",
      "Edge with label AVAILABLE_ON not found in ontology\n",
      "Edge with label AVAILABLE_ON not found in ontology\n",
      "Edge with label AVAILABLE_ON not found in ontology\n",
      "Edge with label AVAILABLE_ON not found in ontology\n",
      "Edge with label SIMILAR_TO not found in ontology\n",
      "Edge with label SIMILAR_TO not found in ontology\n",
      "Edge with label SIMILAR_TO not found in ontology\n",
      "Edge with label SIMILAR_TO not found in ontology\n",
      "Edge with label SIMILAR_TO not found in ontology\n"
     ]
    }
   ],
   "source": [
    "from falkordb_gemini_kg.classes.source import HTML\n",
    "\n",
    "kg.process_sources(\n",
    "  [\n",
    "    HTML(url) for url in source_urls\n",
    "  ]\n",
    ")"
   ]
  },
  {
   "cell_type": "code",
   "execution_count": 6,
   "metadata": {},
   "outputs": [
    {
     "name": "stdout",
     "output_type": "stream",
     "text": [
      "Nodes:\n",
      "(:Tvshow {title: \"string!\", rating: \"string\", release_year: \"string\", number_of_seasons: \"string\", genre: \"string\", original_language: \"string\", release_date: \"string\"})\n",
      "(:Person {name: \"string!\"})\n",
      "(:Network {name: \"string!\"})\n",
      "(:Movie {title: \"string!\", release_year: \"string\", runtime: \"string\", genre: \"string\", box_office_gross_usa: \"string\", rating: \"string\", tomatometer: \"string\", audience_score: \"string\", release_date_theaters: \"string\", release_date_streaming: \"string\", release_date: \"string\", tomatometer_score: \"string\", gross_usa: \"string\", original_language: \"string\", aspect_ratio: \"string\", sound_mix: \"string\", distributor: \"string\"})\n",
      "(:Streamingservice {name: \"string!\"})\n",
      "(:Review {rating: \"string\", text: \"string\", date: \"string\", publication: \"string\"})\n",
      "(:Critic {name: \"string!\"})\n",
      "(:Publication {name: \"string!\"})\n",
      "(:Character {name: \"string!\"})\n",
      "(:Genre {name: \"string!\"})\n",
      "(:Productioncompany {name: \"string!\"})\n",
      "\n",
      "Edges:\n",
      "(:Person)-[:WROTE {}]->(:Movie)\n",
      "(:Person)-[:WRITTEN {}]->(:Movie)\n",
      "(:Person)-[:PRODUCED {}]->(:Movie)\n",
      "(:Person)-[:DIRECTED {}]->(:Movie)\n",
      "(:Person)-[:PLAYED {}]->(:Character)\n",
      "(:Movie)-[:HAS_GENRE {}]->(:Genre)\n",
      "(:Review)-[:PUBLISHED_IN {}]->(:Publication)\n",
      "(:Critic)-[:REVIEWED {}]->(:Movie)\n",
      "(:Character)-[:BELONGS_TO {}]->(:Movie)\n"
     ]
    }
   ],
   "source": [
    "print(\"Nodes:\")\n",
    "for node in kg.ontology.nodes:\n",
    "    print(node)\n",
    "\n",
    "print(\"\\nEdges:\")\n",
    "for edge in kg.ontology.edges:\n",
    "    print(edge)"
   ]
  },
  {
   "cell_type": "code",
   "execution_count": 3,
   "metadata": {},
   "outputs": [
    {
     "data": {
      "text/plain": [
       "'Keanu Reeves and Lilly Wachowski are related through their work on the movie \"Dangerous Liaisons\". Lilly Wachowski wrote and produced the movie, while Keanu Reeves wrote and produced the movie. \\n'"
      ]
     },
     "execution_count": 3,
     "metadata": {},
     "output_type": "execute_result"
    }
   ],
   "source": [
    "kg.ask(\"How are Keanu Reeves and Lilly Wachowski related?\")"
   ]
  }
 ],
 "metadata": {
  "kernelspec": {
   "display_name": ".venv",
   "language": "python",
   "name": "python3"
  },
  "language_info": {
   "codemirror_mode": {
    "name": "ipython",
    "version": 3
   },
   "file_extension": ".py",
   "mimetype": "text/x-python",
   "name": "python",
   "nbconvert_exporter": "python",
   "pygments_lexer": "ipython3",
   "version": "3.11.4"
  }
 },
 "nbformat": 4,
 "nbformat_minor": 2
}
