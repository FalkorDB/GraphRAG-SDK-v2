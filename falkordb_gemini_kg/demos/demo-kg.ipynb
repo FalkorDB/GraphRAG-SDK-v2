{
 "cells": [
  {
   "cell_type": "code",
   "execution_count": null,
   "metadata": {},
   "outputs": [],
   "source": [
    "from dotenv import load_dotenv\n",
    "\n",
    "load_dotenv()\n",
    "from falkordb_gemini_kg.classes.model_config import (\n",
    "    KnowledgeGraphModelConfig,\n",
    "    KnowledgeGraphModelStepConfig,\n",
    ")\n",
    "from falkordb_gemini_kg import KnowledgeGraph, Ontology\n",
    "from falkordb_gemini_kg.classes.source import HTML\n",
    "import vertexai\n",
    "import os\n",
    "from random import shuffle\n",
    "import json\n",
    "\n",
    "\n",
    "vertexai.init(project=os.getenv(\"PROJECT_ID\"), location=os.getenv(\"REGION\"))"
   ]
  },
  {
   "cell_type": "code",
   "execution_count": null,
   "metadata": {},
   "outputs": [],
   "source": [
    "src_file=\"../data/rottentomatoes.txt\"\n",
    "\n",
    "source_urls = []\n",
    "with open(src_file, \"r\", encoding=\"utf-8\") as file:\n",
    "    source_urls = file.readlines()\n",
    "\n",
    "shuffle(source_urls)\n",
    "\n",
    "sources = [HTML(url) for url in source_urls]"
   ]
  },
  {
   "cell_type": "code",
   "execution_count": null,
   "metadata": {},
   "outputs": [],
   "source": [
    "ontology = Ontology.from_sources(\n",
    "    sources=sources[: round(len(sources) * 0.2)],\n",
    "    boundaries=input(\"Enter the boundaries for the ontology creation:\\n\"),\n",
    "    model_config=KnowledgeGraphModelStepConfig(model=\"gemini-1.5-flash-001\"),\n",
    ")\n",
    "\n",
    "ontology_file = \"ontology.json\"\n",
    "\n",
    "# Save to json file\n",
    "with open(ontology_file, \"w\", encoding=\"utf-8\") as file:\n",
    "    file.write(json.dumps(ontology.to_json(), indent=2))"
   ]
  },
  {
   "cell_type": "code",
   "execution_count": null,
   "metadata": {},
   "outputs": [],
   "source": [
    "# Read from json file\n",
    "ontology_file = \"ontology.json\"\n",
    "with open(ontology_file, \"r\", encoding=\"utf-8\") as file:\n",
    "    ontology = Ontology.from_json(json.loads(file.read()))\n",
    "\n",
    "kg = KnowledgeGraph(\n",
    "    name=\"movies\",\n",
    "    model_config=KnowledgeGraphModelConfig.from_dict(d={\"model\": \"gemini-1.5-flash-001\"}),\n",
    "    ontology=ontology,\n",
    ")"
   ]
  },
  {
   "cell_type": "code",
   "execution_count": null,
   "metadata": {},
   "outputs": [],
   "source": [
    "kg.process_sources(sources)"
   ]
  },
  {
   "cell_type": "code",
   "execution_count": null,
   "metadata": {},
   "outputs": [],
   "source": [
    "kg.ask(\"How are Keanu Reeves and Carrie-Anne Moss related?\")"
   ]
  },
  {
   "cell_type": "code",
   "execution_count": null,
   "metadata": {},
   "outputs": [],
   "source": [
    "chat = kg.chat_session()\n",
    "\n",
    "chat.send_message(\"Who is the director of the movie The Matrix?\")\n",
    "chat.send_message(\"And how are they related with Keanu Reeves?\")"
   ]
  }
 ],
 "metadata": {
  "kernelspec": {
   "display_name": ".venv",
   "language": "python",
   "name": "python3"
  },
  "language_info": {
   "codemirror_mode": {
    "name": "ipython",
    "version": 3
   },
   "file_extension": ".py",
   "mimetype": "text/x-python",
   "name": "python",
   "nbconvert_exporter": "python",
   "pygments_lexer": "ipython3",
   "version": "3.11.4"
  }
 },
 "nbformat": 4,
 "nbformat_minor": 2
}
