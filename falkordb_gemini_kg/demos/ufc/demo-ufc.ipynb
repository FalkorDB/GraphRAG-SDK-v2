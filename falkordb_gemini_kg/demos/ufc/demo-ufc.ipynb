{
 "cells": [
  {
   "cell_type": "code",
   "execution_count": 1,
   "metadata": {},
   "outputs": [],
   "source": [
    "from dotenv import load_dotenv\n",
    "load_dotenv()\n",
    "\n",
    "import logging\n",
    "import sys\n",
    "date_strftime_format = \"%Y-%m-%y %H:%M:%S\"\n",
    "logging.basicConfig(level=logging.INFO, format=\"%(asctime)s %(message)s\", datefmt=date_strftime_format)\n",
    "\n",
    "from falkordb_gemini_kg.classes.model_config import (\n",
    "    KnowledgeGraphModelConfig,\n",
    "    StepModelConfig,\n",
    ")\n",
    "from falkordb_gemini_kg import KnowledgeGraph, Ontology\n",
    "from falkordb_gemini_kg.classes.source import Source\n",
    "import vertexai\n",
    "import os\n",
    "from random import shuffle\n",
    "import json\n",
    "from falkordb import FalkorDB\n",
    "\n",
    "# Initialize the Vertex AI client\n",
    "vertexai.init(project=os.getenv(\"PROJECT_ID\"), location=os.getenv(\"REGION\"))"
   ]
  },
  {
   "cell_type": "markdown",
   "metadata": {},
   "source": [
    "### Import source data"
   ]
  },
  {
   "cell_type": "code",
   "execution_count": 2,
   "metadata": {},
   "outputs": [],
   "source": [
    "src_files = \"/Users/davidzimberknopf/Documents/Apps/ufc-crawler/data/event/fight\"\n",
    "sources = []\n",
    "\n",
    "# For each file in the source directory, create a new Source object\n",
    "for file in os.listdir(src_files):\n",
    "    sources.append(Source(os.path.join(src_files, file)))"
   ]
  },
  {
   "cell_type": "markdown",
   "metadata": {},
   "source": [
    "### Automatically create the ontology from the sources"
   ]
  },
  {
   "cell_type": "code",
   "execution_count": null,
   "metadata": {},
   "outputs": [],
   "source": [
    "boundaries = \"\"\"\n",
    "    Extract only the most information about the fighters, fights, and events in the UFC.\n",
    "    Do not create nodes for what can be expressed as attributes.\n",
    "\"\"\"\n",
    "\n",
    "ontology = Ontology.from_sources(\n",
    "    sources=sources[: round(len(sources) * 0.1)],\n",
    "    boundaries=boundaries,\n",
    "    model_config=StepModelConfig(model=\"gemini-1.5-pro-001\"),\n",
    ")\n",
    "\n",
    "\n",
    "db = FalkorDB()\n",
    "graph = db.select_graph(\"ufc_ontology\")\n",
    "ontology.save_to_graph(graph)\n",
    "\n",
    "# Save ontology to json file\n",
    "with open(\"ontologies/ufc_ontology.json\", \"w\", encoding=\"utf-8\") as file:\n",
    "    file.write(json.dumps(ontology.to_json(), indent=2))"
   ]
  },
  {
   "cell_type": "markdown",
   "metadata": {},
   "source": [
    "### Read ontology from json file"
   ]
  },
  {
   "cell_type": "code",
   "execution_count": 2,
   "metadata": {},
   "outputs": [
    {
     "name": "stderr",
     "output_type": "stream",
     "text": [
      "2024-06-24 10:02:45 Query: MERGE (n:Fighter {name: \"string!*\", nickname: \"string!\"}) RETURN n\n",
      "2024-06-24 10:02:45 Query: MERGE (n:Fight {name: \"string!*\", date: \"string*\", location: \"string*\", method: \"string\", time: \"string\", details: \"string\", rounds: \"number\", decision: \"string\", winner: \"string\", loser: \"string\"}) RETURN n\n",
      "2024-06-24 10:02:45 Query: MERGE (n:FightTotals {fight_name: \"string!*\", fighter: \"string!*\", knockdowns: \"number\", significant_strikes: \"number\", significant_strikes_attempted: \"number\", significant_strikes_percentage: \"number\", total_strikes: \"number\", total_strikes_attempted: \"number\", takedowns: \"number\", takedowns_attempted: \"number\", takedown_percentage: \"number\", submissions_attempted: \"number\", passes: \"number\", reversals: \"number\"}) RETURN n\n",
      "2024-06-24 10:02:45 Query: MERGE (n:Event {name: \"string!*\", location: \"string*\", date: \"string*\"}) RETURN n\n",
      "2024-06-24 10:02:45 Query: MERGE (n:WeightClass {name: \"string!*\"}) RETURN n\n",
      "2024-06-24 10:02:45 Query: MERGE (n:Referee {name: \"string!*\"}) RETURN n\n",
      "2024-06-24 10:02:45 Query: MATCH (s:Fighter) MATCH (t:Fight) MERGE (s)-[r:FOUGHT_IN {}]->(t) RETURN r\n",
      "2024-06-24 10:02:45 Query: MATCH (s:Fight) MATCH (t:Event) MERGE (s)-[r:TOOK_PLACE_AT {}]->(t) RETURN r\n",
      "2024-06-24 10:02:45 Query: MATCH (s:Fight) MATCH (t:WeightClass) MERGE (s)-[r:FIGHT_WEIGHT_CLASS {}]->(t) RETURN r\n",
      "2024-06-24 10:02:45 Query: MATCH (s:Fighter) MATCH (t:WeightClass) MERGE (s)-[r:FIGHTER_WEIGHT_CLASS {}]->(t) RETURN r\n",
      "2024-06-24 10:02:45 Query: MATCH (s:Referee) MATCH (t:Fight) MERGE (s)-[r:REFERRED {}]->(t) RETURN r\n",
      "2024-06-24 10:02:45 Query: MATCH (s:Fight) MATCH (t:FightTotals) MERGE (s)-[r:FIGHT_TOTAL_STATS {}]->(t) RETURN r\n"
     ]
    }
   ],
   "source": [
    "ontology_file = \"ontologies/ufc_ontology_corrected.json\"\n",
    "with open(ontology_file, \"r\", encoding=\"utf-8\") as file:\n",
    "    ontology = Ontology.from_json(json.loads(file.read()))\n",
    "\n",
    "db = FalkorDB()\n",
    "graph = db.select_graph(\"ufc_ontology\")\n",
    "ontology.save_to_graph(graph)\n",
    "\n",
    "kg = KnowledgeGraph(\n",
    "    name=\"ufc\",\n",
    "    model_config=KnowledgeGraphModelConfig.from_dict(d={\"model\": \"gemini-1.5-pro-001\"}),\n",
    "    ontology=ontology,\n",
    ")"
   ]
  },
  {
   "cell_type": "markdown",
   "metadata": {},
   "source": [
    "### Process the sources raw data into the knowledge graph"
   ]
  },
  {
   "cell_type": "code",
   "execution_count": null,
   "metadata": {},
   "outputs": [],
   "source": [
    "kg.process_sources(sources)"
   ]
  },
  {
   "cell_type": "markdown",
   "metadata": {},
   "source": [
    "### Ask a single question to the model"
   ]
  },
  {
   "cell_type": "code",
   "execution_count": 7,
   "metadata": {},
   "outputs": [
    {
     "name": "stderr",
     "output_type": "stream",
     "text": [
      "2024-06-24 10:05:46 Cypher: \n",
      "MATCH (f:Fight)\n",
      "RETURN f.name, f.date, f.rounds\n",
      "ORDER BY f.date DESC\n",
      "LIMIT 5\n",
      "\n",
      "2024-06-24 10:05:46 Context size: 5\n",
      "2024-06-24 10:05:46 Context characters: 289\n"
     ]
    },
    {
     "data": {
      "text/plain": [
       "'The last 5 fights were Kyung Ho Kang v Muin Gafurov, Robert Whittaker v Ikram Aliskerov, Shara Magomedov v Antonio Trocoli, Kelvin Gastelum v Daniel Rodriguez, and Sergei Pavlovich v Alexander Volkov. They all took place on June 22, 2024.  Kyung Ho Kang v Muin Gafurov, Shara Magomedov v Antonio Trocoli, Kelvin Gastelum v Daniel Rodriguez, and Sergei Pavlovich v Alexander Volkov were 3 round fights. Robert Whittaker v Ikram Aliskerov was a 1 round fight. \\n'"
      ]
     },
     "execution_count": 7,
     "metadata": {},
     "output_type": "execute_result"
    }
   ],
   "source": [
    "kg.ask(\"What were the last 5 fights? When were they? How many rounds did they have?\")"
   ]
  },
  {
   "cell_type": "code",
   "execution_count": 6,
   "metadata": {},
   "outputs": [
    {
     "name": "stderr",
     "output_type": "stream",
     "text": [
      "2024-06-24 10:03:50 Cypher: \n",
      "MATCH (f:Fighter {name: \"Alexandre Pantoja\"})-[:FOUGHT_IN]->(fight:Fight)<-[:FIGHT_TOTAL_STATS]-(totals:FightTotals)\n",
      "RETURN totals.takedowns, totals\n",
      "\n",
      "2024-06-24 10:03:50 Error: Edge FIGHT_TOTAL_STATS has a mismatched source or target. Make sure the edge direction is correct. The edge should connect Fight to FightTotals.\n",
      "2024-06-24 10:03:52 Cypher: \n",
      "MATCH (f:Fighter {name: \"Alexandre Pantoja\"})-[:FOUGHT_IN]->(fight:Fight)-[:FIGHT_TOTAL_STATS]->(totals:FightTotals)\n",
      "RETURN totals.takedowns, totals\n",
      "\n",
      "2024-06-24 10:03:52 Context size: 10\n",
      "2024-06-24 10:03:52 Context characters: 3579\n"
     ]
    },
    {
     "data": {
      "text/plain": [
       "'Alexandre Pantoja had 23 takedowns in all fights. \\n'"
      ]
     },
     "execution_count": 6,
     "metadata": {},
     "output_type": "execute_result"
    }
   ],
   "source": [
    "kg.ask(\"How many takedowns did Alexandre Pantoja have in all fights?\")"
   ]
  },
  {
   "cell_type": "markdown",
   "metadata": {},
   "source": [
    "### Start a chat session with the model"
   ]
  },
  {
   "cell_type": "code",
   "execution_count": 3,
   "metadata": {},
   "outputs": [
    {
     "name": "stderr",
     "output_type": "stream",
     "text": [
      "2024-06-24 10:02:50 Cypher: \n",
      "MATCH (f:Fighter {nickname: 'Salsa Boy'}) RETURN f\n",
      "\n",
      "2024-06-24 10:02:50 Context size: 1\n",
      "2024-06-24 10:02:50 Context characters: 65\n"
     ]
    },
    {
     "name": "stdout",
     "output_type": "stream",
     "text": [
      "Salsa Boy is the nickname of Waldo Cortes-Acosta. \n",
      "\n"
     ]
    }
   ],
   "source": [
    "chat = kg.chat_session()\n",
    "\n",
    "print(chat.send_message(\"Who is Salsa Boy?\"))"
   ]
  }
 ],
 "metadata": {
  "kernelspec": {
   "display_name": ".venv",
   "language": "python",
   "name": "python3"
  },
  "language_info": {
   "codemirror_mode": {
    "name": "ipython",
    "version": 3
   },
   "file_extension": ".py",
   "mimetype": "text/x-python",
   "name": "python",
   "nbconvert_exporter": "python",
   "pygments_lexer": "ipython3",
   "version": "3.11.4"
  }
 },
 "nbformat": 4,
 "nbformat_minor": 2
}
