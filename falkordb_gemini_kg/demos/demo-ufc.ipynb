{
 "cells": [
  {
   "cell_type": "code",
   "execution_count": 1,
   "metadata": {},
   "outputs": [],
   "source": [
    "from dotenv import load_dotenv\n",
    "load_dotenv()\n",
    "\n",
    "import logging\n",
    "import sys\n",
    "date_strftime_format = \"%Y-%m-%y %H:%M:%S\"\n",
    "logging.basicConfig(level=logging.INFO, format=\"%(asctime)s %(message)s\", datefmt=date_strftime_format)\n",
    "\n",
    "from falkordb_gemini_kg.classes.model_config import (\n",
    "    KnowledgeGraphModelConfig,\n",
    "    StepModelConfig,\n",
    ")\n",
    "from falkordb_gemini_kg import KnowledgeGraph, Ontology\n",
    "from falkordb_gemini_kg.classes.source import Source\n",
    "import vertexai\n",
    "import os\n",
    "from random import shuffle\n",
    "import json\n",
    "from falkordb import FalkorDB\n",
    "\n",
    "# Initialize the Vertex AI client\n",
    "vertexai.init(project=os.getenv(\"PROJECT_ID\"), location=os.getenv(\"REGION\"))"
   ]
  },
  {
   "cell_type": "markdown",
   "metadata": {},
   "source": [
    "### Import source data"
   ]
  },
  {
   "cell_type": "code",
   "execution_count": 2,
   "metadata": {},
   "outputs": [],
   "source": [
    "src_files = \"/Users/davidzimberknopf/Documents/Apps/ufc-crawler/data/event/fight\"\n",
    "sources = []\n",
    "\n",
    "# For each file in the source directory, create a new Source object\n",
    "for file in os.listdir(src_files):\n",
    "    sources.append(Source(os.path.join(src_files, file)))"
   ]
  },
  {
   "cell_type": "markdown",
   "metadata": {},
   "source": [
    "### Automatically create the ontology from the sources"
   ]
  },
  {
   "cell_type": "code",
   "execution_count": null,
   "metadata": {},
   "outputs": [],
   "source": [
    "boundaries = \"\"\"\n",
    "    Extract only the most information about the fighters, fights, and events in the UFC.\n",
    "    Do not create nodes for what can be expressed as attributes.\n",
    "\"\"\"\n",
    "\n",
    "ontology = Ontology.from_sources(\n",
    "    sources=sources[: round(len(sources) * 0.1)],\n",
    "    boundaries=boundaries,\n",
    "    model_config=StepModelConfig(model=\"gemini-1.5-pro-001\"),\n",
    ")\n",
    "\n",
    "\n",
    "db = FalkorDB()\n",
    "graph = db.select_graph(\"ufc_ontology\")\n",
    "ontology.save_to_graph(graph)\n",
    "\n",
    "# Save ontology to json file\n",
    "with open(\"ufc_ontology.json\", \"w\", encoding=\"utf-8\") as file:\n",
    "    file.write(json.dumps(ontology.to_json(), indent=2))"
   ]
  },
  {
   "cell_type": "markdown",
   "metadata": {},
   "source": [
    "### Read ontology from json file"
   ]
  },
  {
   "cell_type": "code",
   "execution_count": 2,
   "metadata": {},
   "outputs": [
    {
     "name": "stderr",
     "output_type": "stream",
     "text": [
      "2024-06-24 10:28:26 Query: MERGE (n:Fighter {name: \"string!*\", nickname: \"string!\"}) RETURN n\n",
      "2024-06-24 10:28:26 Query: MERGE (n:Fight {name: \"string!*\", date: \"string*\", location: \"string*\", method: \"string\", time: \"string\", details: \"string\", rounds: \"number\", decision: \"string\", winner: \"string\", loser: \"string\"}) RETURN n\n",
      "2024-06-24 10:28:26 Query: MERGE (n:FightTotals {fight_name: \"string!*\", fighter: \"string!*\", knockdowns: \"number\", significant_strikes: \"number\", significant_strikes_attempted: \"number\", significant_strikes_percentage: \"number\", total_strikes: \"number\", total_strikes_attempted: \"number\", takedowns: \"number\", takedowns_attempted: \"number\", takedown_percentage: \"number\", submissions_attempted: \"number\", passes: \"number\", reversals: \"number\"}) RETURN n\n",
      "2024-06-24 10:28:26 Query: MERGE (n:Event {name: \"string!*\", location: \"string*\", date: \"string*\"}) RETURN n\n",
      "2024-06-24 10:28:26 Query: MERGE (n:WeightClass {name: \"string!*\"}) RETURN n\n",
      "2024-06-24 10:28:26 Query: MERGE (n:Referee {name: \"string!*\"}) RETURN n\n",
      "2024-06-24 10:28:26 Query: MATCH (s:Fighter) MATCH (t:Fight) MERGE (s)-[r:FOUGHT_IN {}]->(t) RETURN r\n",
      "2024-06-24 10:28:26 Query: MATCH (s:Fight) MATCH (t:Event) MERGE (s)-[r:TOOK_PLACE_AT {}]->(t) RETURN r\n",
      "2024-06-24 10:28:26 Query: MATCH (s:Fight) MATCH (t:WeightClass) MERGE (s)-[r:FIGHT_WEIGHT_CLASS {}]->(t) RETURN r\n",
      "2024-06-24 10:28:26 Query: MATCH (s:Fighter) MATCH (t:WeightClass) MERGE (s)-[r:FIGHTER_WEIGHT_CLASS {}]->(t) RETURN r\n",
      "2024-06-24 10:28:26 Query: MATCH (s:Referee) MATCH (t:Fight) MERGE (s)-[r:REFERRED {}]->(t) RETURN r\n",
      "2024-06-24 10:28:26 Query: MATCH (s:Fight) MATCH (t:FightTotals) MERGE (s)-[r:FIGHT_TOTAL_STATS {}]->(t) RETURN r\n"
     ]
    }
   ],
   "source": [
    "ontology_file = \"ufc_ontology_corrected.json\"\n",
    "with open(ontology_file, \"r\", encoding=\"utf-8\") as file:\n",
    "    ontology = Ontology.from_json(json.loads(file.read()))\n",
    "\n",
    "db = FalkorDB()\n",
    "graph = db.select_graph(\"ufc_ontology\")\n",
    "ontology.save_to_graph(graph)\n",
    "\n",
    "kg = KnowledgeGraph(\n",
    "    name=\"ufc\",\n",
    "    model_config=KnowledgeGraphModelConfig.from_dict(d={\"model\": \"gemini-1.5-pro-001\"}),\n",
    "    ontology=ontology,\n",
    ")"
   ]
  },
  {
   "cell_type": "markdown",
   "metadata": {},
   "source": [
    "### Process the sources raw data into the knowledge graph"
   ]
  },
  {
   "cell_type": "code",
   "execution_count": null,
   "metadata": {},
   "outputs": [],
   "source": [
    "kg.process_sources(sources)"
   ]
  },
  {
   "cell_type": "markdown",
   "metadata": {},
   "source": [
    "### Ask a single question to the model"
   ]
  },
  {
   "cell_type": "code",
   "execution_count": 5,
   "metadata": {},
   "outputs": [
    {
     "name": "stderr",
     "output_type": "stream",
     "text": [
      "2024-06-24 10:24:52 Cypher: \n",
      "MATCH (f:Fight)\n",
      "RETURN f\n",
      "ORDER BY f.date DESC\n",
      "LIMIT 5\n",
      "\n"
     ]
    },
    {
     "data": {
      "text/plain": [
       "'The last five fights were Kyung Ho Kang v Muin Gafurov (3 rounds), Robert Whittaker v Ikram Aliskerov (1 round), Shara Magomedov v Antonio Trocoli (3 rounds), Kelvin Gastelum v Daniel Rodriguez (3 rounds), and Sergei Pavlovich v Alexander Volkov (3 rounds).  All of these fights took place on June 22, 2024. \\n'"
      ]
     },
     "execution_count": 5,
     "metadata": {},
     "output_type": "execute_result"
    }
   ],
   "source": [
    "kg.ask(\"What were the last 5 fights? When were they? How many rounds did they have?\")"
   ]
  },
  {
   "cell_type": "code",
   "execution_count": 3,
   "metadata": {},
   "outputs": [
    {
     "name": "stderr",
     "output_type": "stream",
     "text": [
      "2024-06-24 10:28:35 Cypher: \n",
      "MATCH (f:Fighter)-[:FOUGHT_IN]->(fight:Fight)\n",
      "RETURN f, count(fight) AS fightCount\n",
      "ORDER BY fightCount DESC\n",
      "LIMIT 1\n",
      "\n"
     ]
    },
    {
     "data": {
      "text/plain": [
       "'Charles \"InnerG\" Johnson fought the most fights. \\n'"
      ]
     },
     "execution_count": 3,
     "metadata": {},
     "output_type": "execute_result"
    }
   ],
   "source": [
    "kg.ask(\"Who fought the most fights?\")"
   ]
  },
  {
   "cell_type": "code",
   "execution_count": 4,
   "metadata": {},
   "outputs": [
    {
     "name": "stderr",
     "output_type": "stream",
     "text": [
      "2024-06-24 10:28:44 Cypher: \n",
      "MATCH (f:Fighter {name: \"Charles Johnson\"})-[:FOUGHT_IN]->(fight:Fight)<-[:FIGHT_TOTAL_STATS]-(totals:FightTotals)\n",
      "RETURN totals.takedowns, totals.takedowns_attempted\n",
      "\n",
      "2024-06-24 10:28:44 Error: Edge FIGHT_TOTAL_STATS has a mismatched source or target. Make sure the edge direction is correct. The edge should connect Fight to FightTotals.\n",
      "2024-06-24 10:28:46 Cypher: \n",
      "MATCH (f:Fighter {name: \"Charles Johnson\"})-[:FOUGHT_IN]->(fight:Fight)-[:FIGHT_TOTAL_STATS]->(totals:FightTotals)\n",
      "RETURN totals.takedowns, totals.takedowns_attempted\n",
      "\n"
     ]
    },
    {
     "data": {
      "text/plain": [
       "'Charles Johnson had a total of 22 takedowns in all his fights. \\n'"
      ]
     },
     "execution_count": 4,
     "metadata": {},
     "output_type": "execute_result"
    }
   ],
   "source": [
    "kg.ask(\"How many takedowns did Charles Johnson had in all his fights?\")"
   ]
  },
  {
   "cell_type": "markdown",
   "metadata": {},
   "source": [
    "### Start a chat session with the model"
   ]
  },
  {
   "cell_type": "code",
   "execution_count": 6,
   "metadata": {},
   "outputs": [
    {
     "name": "stderr",
     "output_type": "stream",
     "text": [
      "2024-06-24 10:30:28 Cypher: \n",
      "MATCH (f:Fighter {nickname: 'Salsa Boy'})\n",
      "RETURN f\n",
      "\n"
     ]
    },
    {
     "name": "stdout",
     "output_type": "stream",
     "text": [
      "Salsa Boy is Waldo Cortes-Acosta. \n",
      "\n"
     ]
    },
    {
     "name": "stderr",
     "output_type": "stream",
     "text": [
      "2024-06-24 10:30:31 Cypher: \n",
      "\n",
      "2024-06-24 10:30:31 Error: Error: empty query.\n",
      "2024-06-24 10:30:33 Cypher: \n",
      "MATCH (f:Fighter)-[:FOUGHT_IN]->(fight:Fight)<-[:FIGHT_TOTAL_STATS]-(stats:FightTotals)\n",
      "WHERE f.nickname = 'Salsa Boy'\n",
      "RETURN sum(stats.takedowns_attempted)\n",
      "\n",
      "2024-06-24 10:30:33 Error: Edge FIGHT_TOTAL_STATS has a mismatched source or target. Make sure the edge direction is correct. The edge should connect Fight to FightTotals.\n",
      "2024-06-24 10:30:35 Cypher: \n",
      "MATCH (f:Fighter)-[:FOUGHT_IN]->(fight:Fight)-[:FIGHT_TOTAL_STATS]->(stats:FightTotals)\n",
      "WHERE f.nickname = 'Salsa Boy'\n",
      "RETURN sum(stats.takedowns_attempted)\n",
      "\n"
     ]
    },
    {
     "name": "stdout",
     "output_type": "stream",
     "text": [
      "He had 12 takedown attempts in all fights. \n",
      "\n"
     ]
    }
   ],
   "source": [
    "chat = kg.chat_session()\n",
    "\n",
    "print(chat.send_message(\"Who is Salsa Boy?\"))\n",
    "print(chat.send_message(\"How many takedown attempts did he have in all fights?\"))"
   ]
  }
 ],
 "metadata": {
  "kernelspec": {
   "display_name": ".venv",
   "language": "python",
   "name": "python3"
  },
  "language_info": {
   "codemirror_mode": {
    "name": "ipython",
    "version": 3
   },
   "file_extension": ".py",
   "mimetype": "text/x-python",
   "name": "python",
   "nbconvert_exporter": "python",
   "pygments_lexer": "ipython3",
   "version": "3.11.4"
  }
 },
 "nbformat": 4,
 "nbformat_minor": 2
}
