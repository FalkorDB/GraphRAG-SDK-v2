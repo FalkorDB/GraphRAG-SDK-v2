{
 "cells": [
  {
   "cell_type": "code",
   "execution_count": null,
   "metadata": {},
   "outputs": [],
   "source": [
    "from dotenv import load_dotenv\n",
    "load_dotenv()\n",
    "\n",
    "import logging\n",
    "import sys\n",
    "date_strftime_format = \"%Y-%m-%y %H:%M:%S\"\n",
    "logging.basicConfig(level=logging.INFO, format=\"%(asctime)s %(message)s\", datefmt=date_strftime_format)\n",
    "\n",
    "from falkordb_gemini_kg.classes.model_config import KnowledgeGraphModelConfig\n",
    "from falkordb_gemini_kg import KnowledgeGraph, Ontology\n",
    "from falkordb_gemini_kg.classes.source import Source\n",
    "from falkordb_gemini_kg.models.openai import OpenAiGenerativeModel\n",
    "import vertexai\n",
    "import os\n",
    "from random import shuffle\n",
    "import json\n",
    "from falkordb import FalkorDB\n",
    "\n",
    "# Initialize the Vertex AI client\n",
    "vertexai.init(project=os.getenv(\"PROJECT_ID\"), location=os.getenv(\"REGION\"))"
   ]
  },
  {
   "cell_type": "markdown",
   "metadata": {},
   "source": [
    "### Import source data"
   ]
  },
  {
   "cell_type": "code",
   "execution_count": null,
   "metadata": {},
   "outputs": [],
   "source": [
    "src_files = \"data/fight\"\n",
    "sources = []\n",
    "\n",
    "# For each file in the source directory, create a new Source object\n",
    "for file in os.listdir(src_files):\n",
    "    sources.append(Source(os.path.join(src_files, file)))"
   ]
  },
  {
   "cell_type": "markdown",
   "metadata": {},
   "source": [
    "### Automatically create the ontology from the sources"
   ]
  },
  {
   "cell_type": "code",
   "execution_count": null,
   "metadata": {},
   "outputs": [],
   "source": [
    "boundaries = \"\"\"\n",
    "    Extract only the most information about the fighters, fights, and events in the UFC.\n",
    "    Do not create entities for what can be expressed as attributes.\n",
    "\"\"\"\n",
    "\n",
    "model = OpenAiGenerativeModel(model_name=\"gpt-4o\")\n",
    "\n",
    "ontology = Ontology.from_sources(\n",
    "    sources=sources[: round(len(sources) * 0.1)],\n",
    "    boundaries=boundaries,\n",
    "    model=model,\n",
    ")\n",
    "\n",
    "\n",
    "db = FalkorDB()\n",
    "graph = db.select_graph(\"ufc_ontology\")\n",
    "ontology.save_to_graph(graph)\n",
    "\n",
    "# Save ontology to json file\n",
    "with open(\"ontologies/ufc_ontology.json\", \"w\", encoding=\"utf-8\") as file:\n",
    "    file.write(json.dumps(ontology.to_json(), indent=2))"
   ]
  },
  {
   "cell_type": "markdown",
   "metadata": {},
   "source": [
    "### Read ontology from json file"
   ]
  },
  {
   "cell_type": "code",
   "execution_count": null,
   "metadata": {},
   "outputs": [],
   "source": [
    "ontology_file = \"ontologies/ufc_ontology_corrected.json\"\n",
    "with open(ontology_file, \"r\", encoding=\"utf-8\") as file:\n",
    "    ontology = Ontology.from_json(json.loads(file.read()))\n",
    "\n",
    "db = FalkorDB()\n",
    "graph = db.select_graph(\"ufc_ontology\")\n",
    "ontology.save_to_graph(graph)\n",
    "\n",
    "kg = KnowledgeGraph(\n",
    "    name=\"ufc\",\n",
    "    model_config=KnowledgeGraphModelConfig.with_model(model),\n",
    "    ontology=ontology,\n",
    ")"
   ]
  },
  {
   "cell_type": "markdown",
   "metadata": {},
   "source": [
    "### Process the sources raw data into the knowledge graph"
   ]
  },
  {
   "cell_type": "code",
   "execution_count": null,
   "metadata": {},
   "outputs": [],
   "source": [
    "kg.process_sources(sources)"
   ]
  },
  {
   "cell_type": "markdown",
   "metadata": {},
   "source": [
    "### Ask a single question to the model"
   ]
  },
  {
   "cell_type": "code",
   "execution_count": null,
   "metadata": {},
   "outputs": [],
   "source": [
    "kg.ask(\"What were the last 5 fights? When were they? How many rounds did they have?\")"
   ]
  },
  {
   "cell_type": "code",
   "execution_count": null,
   "metadata": {},
   "outputs": [],
   "source": [
    "kg.ask(\"How many takedowns did Alexandre Pantoja have in all fights?\")"
   ]
  },
  {
   "cell_type": "markdown",
   "metadata": {},
   "source": [
    "### Start a chat session with the model"
   ]
  },
  {
   "cell_type": "code",
   "execution_count": null,
   "metadata": {},
   "outputs": [],
   "source": [
    "chat = kg.chat_session()\n",
    "\n",
    "print(chat.send_message(\"Who is Salsa Boy?\"))"
   ]
  },
  {
   "cell_type": "code",
   "execution_count": null,
   "metadata": {},
   "outputs": [],
   "source": []
  }
 ],
 "metadata": {
  "kernelspec": {
   "display_name": ".venv",
   "language": "python",
   "name": "python3"
  },
  "language_info": {
   "codemirror_mode": {
    "name": "ipython",
    "version": 3
   },
   "file_extension": ".py",
   "mimetype": "text/x-python",
   "name": "python",
   "nbconvert_exporter": "python",
   "pygments_lexer": "ipython3",
   "version": "3.12.4"
  }
 },
 "nbformat": 4,
 "nbformat_minor": 2
}
