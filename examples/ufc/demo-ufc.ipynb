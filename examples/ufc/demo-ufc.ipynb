{
 "cells": [
  {
   "cell_type": "markdown",
   "metadata": {},
   "source": [
    "# Using GraphRAG-SDK to Create a Knowledge Graph and RAG System from Unstructured Documents\n",
    "\n",
    "GraphRAG-SDK provides a powerful tool, enhanced by LLM technology, to build a Retrieval-Augmented Generation (RAG) system. This example demonstrates how to load UFC HTML files, automatically detect ontology based on 10% of the files, and create a Knowledge Graph (KG) to enable a question-answerable RAG system."
   ]
  },
  {
   "cell_type": "code",
   "execution_count": 15,
   "metadata": {},
   "outputs": [
    {
     "data": {
      "text/plain": [
       "True"
      ]
     },
     "execution_count": 15,
     "metadata": {},
     "output_type": "execute_result"
    }
   ],
   "source": [
    "import os\n",
    "import json\n",
    "import random\n",
    "from falkordb import FalkorDB\n",
    "from dotenv import load_dotenv\n",
    "from graphrag_sdk.classes.source import Source\n",
    "from graphrag_sdk import KnowledgeGraph, Ontology\n",
    "from graphrag_sdk.models.openai import OpenAiGenerativeModel\n",
    "from graphrag_sdk.classes.model_config import KnowledgeGraphModelConfig\n",
    "load_dotenv()\n",
    "\n",
    "# Configuration\n",
    "# OPENAI_API_KEY = \"sk-\"# OpenAI API key"
   ]
  },
  {
   "cell_type": "markdown",
   "metadata": {},
   "source": [
    "### Import Source Data from Disk\n",
    "\n",
    "This example uses UFC HTML files as the source data. We will import these files as `Source` objects."
   ]
  },
  {
   "cell_type": "code",
   "execution_count": 16,
   "metadata": {},
   "outputs": [],
   "source": [
    "# Data folder.\n",
    "src_files = \"data/fight\"\n",
    "sources = []\n",
    "\n",
    "# For each file in the source directory, create a new Source object.\n",
    "for file in os.listdir(src_files):\n",
    "    sources.append(Source(os.path.join(src_files, file)))"
   ]
  },
  {
   "cell_type": "markdown",
   "metadata": {},
   "source": [
    "### Ontology from the Sources\n",
    "\n",
    "Next, we will utilize an LLM to automatically extract ontology from a portion of the data (10%) and save it as a JSON file for manual review. We will also add `boundaries` to the ontology detection process to ensure the desired ontology is accurately identified."
   ]
  },
  {
   "cell_type": "code",
   "execution_count": 17,
   "metadata": {},
   "outputs": [],
   "source": [
    "# Define the percentage of files that will be used to auto-create the ontology.\n",
    "percent = 0.1  # This represents 10%. You can adjust this value (e.g., 0.2 for 20%).\n",
    "\n",
    "boundaries = \"\"\"\n",
    "    Extract only the most relevant information about UFC fighters, fights, and events.\n",
    "    Avoid creating entities for details that can be expressed as attributes.\n",
    "\"\"\"\n",
    "\n",
    "# Define the model to be used for the ontology\n",
    "model = OpenAiGenerativeModel(model_name=\"gpt-4o\")\n",
    "\n",
    "# Randomly select a percentage of files from sources.\n",
    "sampled_sources = random.sample(sources, round(len(sources) * percent))\n",
    "\n",
    "ontology = Ontology.from_sources(\n",
    "    sources=sampled_sources,\n",
    "    boundaries=boundaries,\n",
    "    model=model,\n",
    ")\n",
    "\n",
    "# Save the ontology to the disk as a json file.\n",
    "with open(\"ontology.json\", \"w\", encoding=\"utf-8\") as file:\n",
    "    file.write(json.dumps(ontology.to_json(), indent=2))"
   ]
  },
  {
   "cell_type": "code",
   "execution_count": 18,
   "metadata": {},
   "outputs": [
    {
     "name": "stdout",
     "output_type": "stream",
     "text": [
      "{'entities': [{'label': 'Person', 'attributes': [{'name': 'name', 'type': 'string', 'unique': True, 'required': True}, {'name': 'nickname', 'type': 'string', 'unique': False, 'required': False}, {'name': 'result', 'type': 'string', 'unique': False, 'required': False}], 'description': ''}, {'label': 'Event', 'attributes': [{'name': 'title', 'type': 'string', 'unique': True, 'required': True}, {'name': 'date', 'type': 'string', 'unique': False, 'required': True}, {'name': 'location', 'type': 'string', 'unique': False, 'required': True}], 'description': ''}, {'label': 'Referee', 'attributes': [{'name': 'name', 'type': 'string', 'unique': True, 'required': True}], 'description': ''}, {'label': 'FightStat', 'attributes': [{'name': 'fighter_name', 'type': 'string', 'unique': True, 'required': True}, {'name': 'knockdowns', 'type': 'number', 'unique': False, 'required': True}, {'name': 'significant_strikes', 'type': 'number', 'unique': False, 'required': True}, {'name': 'total_strikes', 'type': 'number', 'unique': False, 'required': True}, {'name': 'takedowns', 'type': 'number', 'unique': False, 'required': True}, {'name': 'takedown_attempts', 'type': 'number', 'unique': False, 'required': True}, {'name': 'submissions_attempted', 'type': 'number', 'unique': False, 'required': True}, {'name': 'passes', 'type': 'number', 'unique': False, 'required': True}, {'name': 'reversals', 'type': 'number', 'unique': False, 'required': True}], 'description': ''}, {'label': 'FightMethod', 'attributes': [{'name': 'method', 'type': 'string', 'unique': True, 'required': True}, {'name': 'round', 'type': 'number', 'unique': False, 'required': True}, {'name': 'time', 'type': 'string', 'unique': False, 'required': True}, {'name': 'time_format', 'type': 'string', 'unique': False, 'required': True}, {'name': 'details', 'type': 'string', 'unique': False, 'required': True}], 'description': ''}], 'relations': [{'label': 'PARTICIPATED_IN', 'source': {'label': 'Person'}, 'target': {'label': 'Event'}, 'attributes': []}, {'label': 'FOUGHT_AGAINST', 'source': {'label': 'Person'}, 'target': {'label': 'Person'}, 'attributes': []}, {'label': 'REFEREED_BY', 'source': {'label': 'Event'}, 'target': {'label': 'Referee'}, 'attributes': []}, {'label': 'HAS_STATISTICS', 'source': {'label': 'Person'}, 'target': {'label': 'FightStat'}, 'attributes': []}, {'label': 'HAS_METHOD', 'source': {'label': 'Event'}, 'target': {'label': 'FightMethod'}, 'attributes': []}, {'label': 'INVOLVES_STATISTICS', 'source': {'label': 'Event'}, 'target': {'label': 'FightStat'}, 'attributes': []}]}\n"
     ]
    }
   ],
   "source": [
    "print(ontology.to_json())"
   ]
  },
  {
   "cell_type": "markdown",
   "metadata": {},
   "source": [
    "### KG from Sources and Ontology\n",
    "\n",
    "After reviewing the ontology, we will load it and use it to create a Knowledge Graph (KG) from the sources."
   ]
  },
  {
   "cell_type": "code",
   "execution_count": 19,
   "metadata": {},
   "outputs": [
    {
     "name": "stdout",
     "output_type": "stream",
     "text": [
      "Entity with label FightStatistic not found in ontology\n",
      "Entity with label FightStatistic not found in ontology\n"
     ]
    }
   ],
   "source": [
    "# After approving the ontology, load it from disk.\n",
    "ontology_file = \"ontology.json\"\n",
    "with open(ontology_file, \"r\", encoding=\"utf-8\") as file:\n",
    "    ontology = Ontology.from_json(json.loads(file.read()))\n",
    "\n",
    "kg = KnowledgeGraph(\n",
    "    name=\"ufc\",\n",
    "    model_config=KnowledgeGraphModelConfig.with_model(model),\n",
    "    ontology=ontology,\n",
    ")\n",
    "kg.process_sources(sources)"
   ]
  },
  {
   "cell_type": "markdown",
   "metadata": {},
   "source": [
    "### Graph RAG\n",
    "\n",
    "At this point, we have a Knowledge Graph based on our data, and we can use it in our GraphRAG system. We can utilize the `ask` method for single questions or the `chat_session` method for engaging in conversations."
   ]
  },
  {
   "cell_type": "code",
   "execution_count": 20,
   "metadata": {},
   "outputs": [
    {
     "name": "stdout",
     "output_type": "stream",
     "text": [
      "('The last five fights were all part of \"UFC Fight Night: Lewis vs. Nascimento\" held on May 11, 2024, in St. Louis, Missouri, USA. Each fight lasted for 3 rounds.', <graphrag_sdk.models.openai.OpenAiChatSession object at 0x75501cf6b510>)\n",
      "Salsa Boy is Waldo Cortes-Acosta.\n",
      "Waldo Cortes-Acosta has participated in 12 fights.\n"
     ]
    }
   ],
   "source": [
    "# Single question.\n",
    "response = kg.ask(\"What were the last five fights? When were they? How many rounds did they have?\")\n",
    "print(response)\n",
    "# Conversation.\n",
    "chat = kg.chat_session()\n",
    "response = chat.send_message(\"Who is Salsa Boy?\")\n",
    "print(response)\n",
    "response = chat.send_message(\"How many fights has he participated?\")\n",
    "print(response)"
   ]
  }
 ],
 "metadata": {
  "kernelspec": {
   "display_name": ".venv",
   "language": "python",
   "name": "python3"
  },
  "language_info": {
   "codemirror_mode": {
    "name": "ipython",
    "version": 3
   },
   "file_extension": ".py",
   "mimetype": "text/x-python",
   "name": "python",
   "nbconvert_exporter": "python",
   "pygments_lexer": "ipython3",
   "version": "3.11.9"
  }
 },
 "nbformat": 4,
 "nbformat_minor": 2
}
