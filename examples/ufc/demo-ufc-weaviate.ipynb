{
 "cells": [
  {
   "cell_type": "code",
   "execution_count": 3,
   "metadata": {},
   "outputs": [
    {
     "name": "stderr",
     "output_type": "stream",
     "text": [
      "/opt/homebrew/Cellar/python@3.12/3.12.4/Frameworks/Python.framework/Versions/3.12/lib/python3.12/pty.py:95: DeprecationWarning: This process (pid=96806) is multi-threaded, use of forkpty() may lead to deadlocks in the child.\n",
      "  pid, fd = os.forkpty()\n"
     ]
    },
    {
     "name": "stdout",
     "output_type": "stream",
     "text": [
      "Requirement already satisfied: weaviate-client in /Users/aviavni/repos/falkordb-gemini-kg/venv/lib/python3.12/site-packages (4.7.1)\n",
      "Requirement already satisfied: requests<3.0.0,>=2.30.0 in /Users/aviavni/repos/falkordb-gemini-kg/venv/lib/python3.12/site-packages (from weaviate-client) (2.32.3)\n",
      "Requirement already satisfied: httpx<=0.27.0,>=0.25.0 in /Users/aviavni/repos/falkordb-gemini-kg/venv/lib/python3.12/site-packages (from weaviate-client) (0.27.0)\n",
      "Requirement already satisfied: validators==0.33.0 in /Users/aviavni/repos/falkordb-gemini-kg/venv/lib/python3.12/site-packages (from weaviate-client) (0.33.0)\n",
      "Requirement already satisfied: authlib<2.0.0,>=1.2.1 in /Users/aviavni/repos/falkordb-gemini-kg/venv/lib/python3.12/site-packages (from weaviate-client) (1.3.1)\n",
      "Requirement already satisfied: pydantic<3.0.0,>=2.5.0 in /Users/aviavni/repos/falkordb-gemini-kg/venv/lib/python3.12/site-packages (from weaviate-client) (2.7.4)\n",
      "Requirement already satisfied: grpcio<2.0.0,>=1.57.0 in /Users/aviavni/repos/falkordb-gemini-kg/venv/lib/python3.12/site-packages (from weaviate-client) (1.65.2)\n",
      "Requirement already satisfied: grpcio-tools<2.0.0,>=1.57.0 in /Users/aviavni/repos/falkordb-gemini-kg/venv/lib/python3.12/site-packages (from weaviate-client) (1.65.2)\n",
      "Requirement already satisfied: grpcio-health-checking<2.0.0,>=1.57.0 in /Users/aviavni/repos/falkordb-gemini-kg/venv/lib/python3.12/site-packages (from weaviate-client) (1.65.2)\n",
      "Requirement already satisfied: cryptography in /Users/aviavni/repos/falkordb-gemini-kg/venv/lib/python3.12/site-packages (from authlib<2.0.0,>=1.2.1->weaviate-client) (43.0.0)\n",
      "Requirement already satisfied: protobuf<6.0dev,>=5.26.1 in /Users/aviavni/repos/falkordb-gemini-kg/venv/lib/python3.12/site-packages (from grpcio-health-checking<2.0.0,>=1.57.0->weaviate-client) (5.27.3)\n",
      "Requirement already satisfied: setuptools in /Users/aviavni/repos/falkordb-gemini-kg/venv/lib/python3.12/site-packages (from grpcio-tools<2.0.0,>=1.57.0->weaviate-client) (72.1.0)\n",
      "Requirement already satisfied: anyio in /Users/aviavni/repos/falkordb-gemini-kg/venv/lib/python3.12/site-packages (from httpx<=0.27.0,>=0.25.0->weaviate-client) (4.4.0)\n",
      "Requirement already satisfied: certifi in /Users/aviavni/repos/falkordb-gemini-kg/venv/lib/python3.12/site-packages (from httpx<=0.27.0,>=0.25.0->weaviate-client) (2024.6.2)\n",
      "Requirement already satisfied: httpcore==1.* in /Users/aviavni/repos/falkordb-gemini-kg/venv/lib/python3.12/site-packages (from httpx<=0.27.0,>=0.25.0->weaviate-client) (1.0.5)\n",
      "Requirement already satisfied: idna in /Users/aviavni/repos/falkordb-gemini-kg/venv/lib/python3.12/site-packages (from httpx<=0.27.0,>=0.25.0->weaviate-client) (3.7)\n",
      "Requirement already satisfied: sniffio in /Users/aviavni/repos/falkordb-gemini-kg/venv/lib/python3.12/site-packages (from httpx<=0.27.0,>=0.25.0->weaviate-client) (1.3.1)\n",
      "Requirement already satisfied: h11<0.15,>=0.13 in /Users/aviavni/repos/falkordb-gemini-kg/venv/lib/python3.12/site-packages (from httpcore==1.*->httpx<=0.27.0,>=0.25.0->weaviate-client) (0.14.0)\n",
      "Requirement already satisfied: annotated-types>=0.4.0 in /Users/aviavni/repos/falkordb-gemini-kg/venv/lib/python3.12/site-packages (from pydantic<3.0.0,>=2.5.0->weaviate-client) (0.7.0)\n",
      "Requirement already satisfied: pydantic-core==2.18.4 in /Users/aviavni/repos/falkordb-gemini-kg/venv/lib/python3.12/site-packages (from pydantic<3.0.0,>=2.5.0->weaviate-client) (2.18.4)\n",
      "Requirement already satisfied: typing-extensions>=4.6.1 in /Users/aviavni/repos/falkordb-gemini-kg/venv/lib/python3.12/site-packages (from pydantic<3.0.0,>=2.5.0->weaviate-client) (4.12.2)\n",
      "Requirement already satisfied: charset-normalizer<4,>=2 in /Users/aviavni/repos/falkordb-gemini-kg/venv/lib/python3.12/site-packages (from requests<3.0.0,>=2.30.0->weaviate-client) (3.3.2)\n",
      "Requirement already satisfied: urllib3<3,>=1.21.1 in /Users/aviavni/repos/falkordb-gemini-kg/venv/lib/python3.12/site-packages (from requests<3.0.0,>=2.30.0->weaviate-client) (2.2.1)\n",
      "Requirement already satisfied: cffi>=1.12 in /Users/aviavni/repos/falkordb-gemini-kg/venv/lib/python3.12/site-packages (from cryptography->authlib<2.0.0,>=1.2.1->weaviate-client) (1.16.0)\n",
      "Requirement already satisfied: pycparser in /Users/aviavni/repos/falkordb-gemini-kg/venv/lib/python3.12/site-packages (from cffi>=1.12->cryptography->authlib<2.0.0,>=1.2.1->weaviate-client) (2.22)\n",
      "\n",
      "\u001b[1m[\u001b[0m\u001b[34;49mnotice\u001b[0m\u001b[1;39;49m]\u001b[0m\u001b[39;49m A new release of pip is available: \u001b[0m\u001b[31;49m24.0\u001b[0m\u001b[39;49m -> \u001b[0m\u001b[32;49m24.2\u001b[0m\n",
      "\u001b[1m[\u001b[0m\u001b[34;49mnotice\u001b[0m\u001b[1;39;49m]\u001b[0m\u001b[39;49m To update, run: \u001b[0m\u001b[32;49mpip install --upgrade pip\u001b[0m\n",
      "Note: you may need to restart the kernel to use updated packages.\n"
     ]
    }
   ],
   "source": [
    "%pip install weaviate-client\n",
    "from dotenv import load_dotenv\n",
    "\n",
    "load_dotenv()\n",
    "import weaviate\n",
    "import weaviate.classes as wvc\n",
    "import os\n",
    "import requests\n",
    "import json\n",
    "from bs4 import BeautifulSoup\n",
    "from vertexai.generative_models import GenerativeModel, ChatSession\n",
    "import subprocess\n",
    "import weaviate\n",
    "import vertexai\n",
    "\n",
    "vertexai.init(project=os.getenv(\"PROJECT_ID\"), location=os.getenv(\"REGION\"))\n",
    "\n",
    "def refresh_token() -> str:\n",
    "    result = subprocess.run(\n",
    "        [\"gcloud\", \"auth\", \"print-access-token\"], capture_output=True, text=True\n",
    "    )\n",
    "    if result.returncode != 0:\n",
    "        print(f\"Error refreshing token: {result.stderr}\")\n",
    "        return None\n",
    "    return result.stdout.strip()\n",
    "\n",
    "\n",
    "def re_instantiate_weaviate() -> weaviate.Client:\n",
    "    token = refresh_token()\n",
    "    \n",
    "    client = weaviate.connect_to_local(\n",
    "        headers={\n",
    "            \"X-Google-Vertex-Api-Key\": token,\n",
    "            \"X-Openai-Api-Key\": os.getenv(\"OPENAI_API_KEY\"),\n",
    "        },\n",
    "    )\n",
    "    return client\n",
    "\n",
    "\n",
    "# Run this every ~60 minutes\n",
    "client = re_instantiate_weaviate()"
   ]
  },
  {
   "cell_type": "code",
   "execution_count": 4,
   "metadata": {},
   "outputs": [],
   "source": [
    "try:\n",
    "      client.collections.create(\n",
    "            name=\"ufc\",\n",
    "            vectorizer_config=wvc.config.Configure.Vectorizer.text2vec_openai(),    # Set the vectorizer to \"text2vec-openai\" to use the OpenAI API for vector-related operations\n",
    "            generative_config=wvc.config.Configure.Generative.palm(\n",
    "                  project_id=os.getenv(\"PROJECT_ID\"),\n",
    "                  model_id=\"gemini-1.5-pro-preview-0514\"\n",
    "            )\n",
    "      )\n",
    "except Exception as e:\n",
    "      if e.status_code == 422:\n",
    "            print(\"Collection already exists\")\n",
    "      else:\n",
    "            raise e"
   ]
  },
  {
   "cell_type": "code",
   "execution_count": 6,
   "metadata": {},
   "outputs": [],
   "source": [
    "ufc = client.collections.get(\"ufc\")\n",
    "\n",
    "src_path = \"data/fight\"\n",
    "sources = []\n",
    "\n",
    "# For each file in the source directory, create a new Source object\n",
    "for file in os.listdir(src_path):\n",
    "    with open(os.path.join(src_path, file), \"r\") as f:\n",
    "        raw = f.read()\n",
    "        soup = BeautifulSoup(raw, \"html.parser\")\n",
    "        title = soup.find(\"title\")\n",
    "        body = soup.find(\"body\")\n",
    "        title_body = (\n",
    "            (title.text if title is not None else \"\")\n",
    "            + (body.text if body is not None else \"\")\n",
    "        ).replace(\"\\n\", \" \")\n",
    "        if title_body != \"\":\n",
    "            ufc.data.insert({\"raw\": title_body[: 8192 * 4]})\n",
    "\n",
    "\n",
    "for i in ufc.iterator():\n",
    "  if i.properties.get(\"raw\") == \"\":\n",
    "    ufc.data.delete_by_id(i.uuid)"
   ]
  },
  {
   "cell_type": "code",
   "execution_count": 7,
   "metadata": {},
   "outputs": [],
   "source": [
    "ufc = client.collections.get(\"ufc\")\n",
    "\n",
    "# print(ufc.config.get().properties)\n",
    "\n",
    "for i in ufc.iterator():\n",
    "  if i.properties.get(\"raw\") == \"\":\n",
    "    ufc.data.delete_by_id(i.uuid)\n",
    "\n",
    "# Get size of collection\n",
    "# print(sum(1 for i in ufc.iterator()))\n",
    "\n",
    "# client.collections.delete(\"ufc\")\n",
    "\n",
    "\n",
    "# for i in ufc.iterator():\n",
    "#     print(i.properties.get(\"raw\"))"
   ]
  },
  {
   "cell_type": "code",
   "execution_count": 8,
   "metadata": {},
   "outputs": [],
   "source": [
    "model = GenerativeModel(\n",
    "    \"gemini-1.5-pro-001\",\n",
    "    system_instruction=\"\"\"\n",
    "You are an assistant that helps to form nice and human understandable answers.\n",
    "The information part contains the provided information that you must use to construct an answer.\n",
    "The provided information is authoritative, you must never doubt it or try to use your internal knowledge to correct or answer it.\n",
    "Make the answer sound as a response to the question. Do not mention that you based the result on the given information.\n",
    "Do not answer more than the question asks for.\n",
    "Here is an example:\n",
    "\n",
    "Question: Which managers own Neo4j stocks?\n",
    "Context:[manager:CTL LLC, manager:JANE STREET GROUP LLC]\n",
    "Helpful Answer: CTL LLC, JANE STREET GROUP LLC owns Neo4j stocks.\n",
    "\n",
    "If the provided information is empty, say that you don't know the answer.\n",
    "\"\"\",\n",
    ")\n",
    "\n",
    "generate_prompt = \"\"\"\n",
    "Use the following knowledge to answer the question at the end. \n",
    "\n",
    "History: {history}\n",
    "\n",
    "Context: {raw}\n",
    "\n",
    "Question: {question}\n",
    "\n",
    "\"\"\""
   ]
  },
  {
   "cell_type": "code",
   "execution_count": 10,
   "metadata": {},
   "outputs": [
    {
     "name": "stdout",
     "output_type": "stream",
     "text": [
      "Context size:  5\n",
      "Context characters:  13327\n"
     ]
    },
    {
     "name": "stderr",
     "output_type": "stream",
     "text": [
      "/Users/aviavni/repos/falkordb-gemini-kg/venv/lib/python3.12/site-packages/google/auth/_default.py:76: UserWarning: Your application has authenticated using end user credentials from Google Cloud SDK without a quota project. You might receive a \"quota exceeded\" or \"API not enabled\" error. See the following page for troubleshooting: https://cloud.google.com/docs/authentication/adc-troubleshooting/user-creds. \n",
      "  warnings.warn(_CLOUD_SDK_CREDENTIALS_WARNING)\n"
     ]
    },
    {
     "name": "stdout",
     "output_type": "stream",
     "text": [
      "The last 5 fights were:  Michael Morales defeated Jake Matthews on November 18, 2023 in a 3 round fight. Morgan Charriere lost to Chepe Mariscal on April 6, 2024 in a 3 round fight. Bryan Battle lost to Ange Loosa on March 16, 2024 in a 2 round fight. Bryan Battle defeated AJ Fletcher on September 23, 2023 in a 2 round fight. Morgan Charriere defeated Manolo Zecchini on September 2, 2023 in a 1 round fight. \n",
      "\n"
     ]
    }
   ],
   "source": [
    "# instruction for the generative module\n",
    "question = (\n",
    "    \"What were the last 5 fights? When were they? How many rounds did they have?\"\n",
    ")\n",
    "\n",
    "\n",
    "ufc = client.collections.get(\"ufc\")\n",
    "response = ufc.query.near_text(query=question, limit=5)\n",
    "context = []\n",
    "for r in response.objects:\n",
    "    context.append(r.properties)\n",
    "\n",
    "\n",
    "context_size = len(context)\n",
    "context_chars = sum([len(i[\"raw\"]) for i in context])\n",
    "\n",
    "print(\"Context size: \", str(context_size))\n",
    "print(\"Context characters: \", str(context_chars))\n",
    "\n",
    "answer = model.generate_content(generate_prompt.format(raw=context, question=question, history=[]))\n",
    "\n",
    "print(answer.text)"
   ]
  },
  {
   "cell_type": "code",
   "execution_count": 11,
   "metadata": {},
   "outputs": [
    {
     "name": "stdout",
     "output_type": "stream",
     "text": [
      "Context size:  5\n",
      "Context characters:  16685\n",
      "Alexandre Pantoja had 17 takedowns in all fights. \n",
      "\n"
     ]
    }
   ],
   "source": [
    "# instruction for the generative module\n",
    "question = (\n",
    "    \"How many takedowns did Alexandre Pantoja have in all fights?\"\n",
    ")\n",
    "\n",
    "\n",
    "ufc = client.collections.get(\"ufc\")\n",
    "response = ufc.query.near_text(query=question, limit=5)\n",
    "context = []\n",
    "for r in response.objects:\n",
    "    context.append(r.properties)\n",
    "\n",
    "context_size = len(context)\n",
    "context_chars = sum([len(i[\"raw\"]) for i in context])\n",
    "\n",
    "print(\"Context size: \", str(context_size))\n",
    "print(\"Context characters: \", str(context_chars))\n",
    "\n",
    "answer = model.generate_content(generate_prompt.format(raw=context, question=question, history=[]))\n",
    "\n",
    "print(answer.text)"
   ]
  },
  {
   "cell_type": "code",
   "execution_count": 12,
   "metadata": {},
   "outputs": [
    {
     "name": "stdout",
     "output_type": "stream",
     "text": [
      "Context size:  5\n",
      "Context characters:  13848\n",
      "Waldo Cortes-Acosta's nickname is \"Salsa Boy\". \n",
      "\n"
     ]
    }
   ],
   "source": [
    "# instruction for the generative module\n",
    "question1 = \"Who is Salsa Boy?\"\n",
    "\n",
    "\n",
    "ufc = client.collections.get(\"ufc\")\n",
    "response1 = ufc.query.near_text(query=question1, limit=5)\n",
    "\n",
    "context1 = [r.properties.get(\"raw\") for r in response1.objects]\n",
    "\n",
    "answer1 = model.generate_content(\n",
    "    generate_prompt.format(raw=context1, question=question1, history=[])\n",
    ")\n",
    "\n",
    "context_size = len(context1)\n",
    "context_chars = sum([len(i) for i in context1])\n",
    "\n",
    "print(\"Context size: \", str(context_size))\n",
    "print(\"Context characters: \", str(context_chars))\n",
    "\n",
    "print(answer1.text)"
   ]
  }
 ],
 "metadata": {
  "kernelspec": {
   "display_name": ".venv",
   "language": "python",
   "name": "python3"
  },
  "language_info": {
   "codemirror_mode": {
    "name": "ipython",
    "version": 3
   },
   "file_extension": ".py",
   "mimetype": "text/x-python",
   "name": "python",
   "nbconvert_exporter": "python",
   "pygments_lexer": "ipython3",
   "version": "3.12.4"
  }
 },
 "nbformat": 4,
 "nbformat_minor": 2
}
