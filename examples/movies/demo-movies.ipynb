{
 "cells": [
  {
   "cell_type": "code",
   "execution_count": 1,
   "metadata": {},
   "outputs": [],
   "source": [
    "from dotenv import load_dotenv\n",
    "\n",
    "load_dotenv()\n",
    "from graphrag_sdk.classes.model_config import KnowledgeGraphModelConfig\n",
    "from graphrag_sdk.models.openai import OpenAiGenerativeModel\n",
    "from graphrag_sdk import KnowledgeGraph, Ontology\n",
    "from graphrag_sdk.classes.source import URL\n",
    "import vertexai\n",
    "import os\n",
    "from random import shuffle\n",
    "import json\n",
    "from falkordb import FalkorDB\n",
    "\n",
    "# Initialize the Vertex AI client\n",
    "vertexai.init(project=os.getenv(\"PROJECT_ID\"), location=os.getenv(\"REGION\"))"
   ]
  },
  {
   "cell_type": "markdown",
   "metadata": {},
   "source": [
    "### Import source data"
   ]
  },
  {
   "cell_type": "code",
   "execution_count": 2,
   "metadata": {},
   "outputs": [],
   "source": [
    "src_file=\"../data/movies/rottentomatoes.txt\"\n",
    "\n",
    "source_urls = []\n",
    "with open(src_file, \"r\", encoding=\"utf-8\") as file:\n",
    "    source_urls = file.readlines()\n",
    "\n",
    "shuffle(source_urls)\n",
    "\n",
    "sources = [URL(url) for url in source_urls]\n",
    "\n",
    "model = OpenAiGenerativeModel(model_name=\"gpt-4o\")"
   ]
  },
  {
   "cell_type": "markdown",
   "metadata": {},
   "source": [
    "### Automatically create the ontology from 20% of the sources"
   ]
  },
  {
   "cell_type": "code",
   "execution_count": null,
   "metadata": {},
   "outputs": [],
   "source": [
    "boundaries = \"Extract all information related to the movies. The graph does not need to contain data about the plot of the movie, but everything else related to it.\"\n",
    "\n",
    "ontology = Ontology.from_sources(\n",
    "    sources=sources[: round(len(sources) * 0.2)],\n",
    "    boundaries=boundaries,\n",
    "    model=model,\n",
    ")\n",
    "\n",
    "\n",
    "db = FalkorDB()\n",
    "graph = db.select_graph(\"movies_ontology\")\n",
    "ontology.save_to_graph(graph)\n",
    "\n",
    "# Save ontology to json file\n",
    "with open(\"ontology_n.json\", \"w\", encoding=\"utf-8\") as file:\n",
    "    file.write(json.dumps(ontology.to_json(), indent=2))"
   ]
  },
  {
   "cell_type": "markdown",
   "metadata": {},
   "source": [
    "### Read ontology from json file"
   ]
  },
  {
   "cell_type": "code",
   "execution_count": 3,
   "metadata": {},
   "outputs": [],
   "source": [
    "ontology_file = \"ontology.json\"\n",
    "with open(ontology_file, \"r\", encoding=\"utf-8\") as file:\n",
    "    ontology = Ontology.from_json(json.loads(file.read()))\n",
    "\n",
    "kg = KnowledgeGraph(\n",
    "    name=\"movies\",\n",
    "    model_config=KnowledgeGraphModelConfig.with_model(model),\n",
    "    ontology=ontology,\n",
    ")"
   ]
  },
  {
   "cell_type": "markdown",
   "metadata": {},
   "source": [
    "### Process the sources raw data into the knowledge graph"
   ]
  },
  {
   "cell_type": "code",
   "execution_count": null,
   "metadata": {},
   "outputs": [
    {
     "name": "stdout",
     "output_type": "stream",
     "text": [
      "Relation with label MENTIONED not found in ontology\n"
     ]
    }
   ],
   "source": [
    "kg.process_sources(sources)"
   ]
  },
  {
   "cell_type": "markdown",
   "metadata": {},
   "source": [
    "### Ask a single question to the model"
   ]
  },
  {
   "cell_type": "code",
   "execution_count": null,
   "metadata": {},
   "outputs": [
    {
     "data": {
      "text/plain": [
       "'Keanu Reeves and Carrie-Anne Moss have acted in the same movies, \"The Matrix\" and \"The Matrix Reloaded.\" \\n'"
      ]
     },
     "execution_count": 5,
     "metadata": {},
     "output_type": "execute_result"
    }
   ],
   "source": [
    "kg.ask(\"How are Keanu Reeves and Carrie-Anne Moss related?\")"
   ]
  },
  {
   "cell_type": "markdown",
   "metadata": {},
   "source": [
    "### Start a chat session with the model"
   ]
  },
  {
   "cell_type": "code",
   "execution_count": 7,
   "metadata": {},
   "outputs": [
    {
     "name": "stdout",
     "output_type": "stream",
     "text": [
      "Lana Wachowski and Lilly Wachowski directed the movie The Matrix. \n",
      "\n",
      "Lana Wachowski and Lilly Wachowski directed the movie The Matrix, in which Keanu Reeves acted. \n",
      "\n"
     ]
    }
   ],
   "source": [
    "chat = kg.chat_session()\n",
    "\n",
    "print(chat.send_message(\"Who is the director of the movie The Matrix?\"))\n",
    "print(chat.send_message(\"And how are they related with Keanu Reeves?\"))"
   ]
  }
 ],
 "metadata": {
  "kernelspec": {
   "display_name": ".venv",
   "language": "python",
   "name": "python3"
  },
  "language_info": {
   "codemirror_mode": {
    "name": "ipython",
    "version": 3
   },
   "file_extension": ".py",
   "mimetype": "text/x-python",
   "name": "python",
   "nbconvert_exporter": "python",
   "pygments_lexer": "ipython3",
   "version": "3.12.4"
  }
 },
 "nbformat": 4,
 "nbformat_minor": 2
}
